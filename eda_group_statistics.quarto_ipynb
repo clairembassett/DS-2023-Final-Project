{
  "cells": [
    {
      "cell_type": "markdown",
      "metadata": {},
      "source": [
        "# Final Project - EDA\n",
        "\n",
        "### Rebecca Vanni, Claire Bassett, Iliana Vasslides, Kayla Kim\n",
        "\n",
        "##### Question One - Define Your Audience / Stakeholder\n",
        "\n",
        "This report is made for the strength and training team for the men's basketball team at UVA. Specifically made in mind for Mike Curtis, who is the head of strength and conditioning.\n",
        "\n",
        "##### Question Two - Define Your Problem Statement\n",
        "\n",
        "Injuries plague every athlete team, especially as the season progresses. How does a players total acceleration, player load, and jumps effect their effort throughout the season? As the the season progresses how does a players load transform between different uses of exertion?\n",
        "\n",
        "##### Question Three - Key Variables\n",
        "\n",
        "Independent variable: \"Date\" or the time during the season the game was played, will be seperated by season (not including the practice dates) Dependent Variables: These will be measuring the amount of effort or exertion in a game... including(\"total accerlation efforts\", Total Player Load\", \"Player Load per Minute\", \"IMA Accel Total\", \"IMA Decel Total\", \"IMA Jump\", and the \"Explosive Efforts\")\n",
        "\n",
        "We are also planning on studying how this varies by specific player throughout a season and by the average posistions. In order to find this we will use the \"About\" and \"Position\" columns.\n",
        "\n",
        "##### Question Four - Merge & Clean the Dataset\n",
        "\n",
        "To clean the data, we are deleting unused columns, checking for missing values, removing duplicates, and checking for correct data types.\n",
        "\n",
        "###### Import all necessary libraries:\n"
      ],
      "id": "904180f6"
    },
    {
      "cell_type": "code",
      "metadata": {},
      "source": [
        "import pandas as pd \n",
        "import numpy as np\n",
        "import matplotlib.pyplot as plt\n",
        "import seaborn as sns"
      ],
      "id": "61fcdcd2",
      "execution_count": null,
      "outputs": []
    },
    {
      "cell_type": "markdown",
      "metadata": {},
      "source": [
        "###### Load the data sets:\n"
      ],
      "id": "90b7ba20"
    },
    {
      "cell_type": "code",
      "metadata": {},
      "source": [
        "#claire path\n",
        "df1 = pd.read_csv('Data/catapult season 1.csv')\n",
        "df2 = pd.read_csv('Data/catapult season 2.csv')\n",
        "#df1 = pd.read_csv(\"./season1.csv\")\n",
        "#df2 = pd.read_csv(\"./season2.csv\")"
      ],
      "id": "e89944e9",
      "execution_count": null,
      "outputs": []
    },
    {
      "cell_type": "markdown",
      "metadata": {},
      "source": [
        "###### Delete unused columns:\n",
        "\n",
        "We only want to keep Date, About, Position, Period Number, Period, Total Player Load, Player Load Per Minute, IMA Accel Total, IMA Decel Total, IMA Jump Count Low Band, IMA Jump Count Med Band, IMA Jump Count High Band, and Explosive Efforts.\n"
      ],
      "id": "5108d619"
    },
    {
      "cell_type": "code",
      "metadata": {},
      "source": [
        "df1 = df1[['Date', 'About', 'Position', 'Period Number', 'Period', 'Total Player Load', 'Player Load Per Minute', 'IMA Accel Total', \n",
        "           'IMA Decel Total', 'IMA Jump Count Low Band', 'IMA Jump Count Med Band', 'IMA Jump Count High Band', 'Explosive Efforts']]\n",
        "\n",
        "df2 = df2[['Date', 'About', 'Position', 'Period Number', 'Period', 'Total Player Load', 'Player Load Per Minute', 'IMA Accel Total', \n",
        "           'IMA Decel Total', 'IMA Jump Count Low Band', 'IMA Jump Count Med Band', 'IMA Jump Count High Band', 'Explosive Efforts']]\n",
        "\n",
        "# make sure columns dropped properly\n",
        "print(\"df1:\", df1.columns)\n",
        "print(\"df2:\", df2.columns)"
      ],
      "id": "1f6c74f3",
      "execution_count": null,
      "outputs": []
    },
    {
      "cell_type": "markdown",
      "metadata": {},
      "source": [
        "###### Check for Missing Data:\n",
        "\n",
        "We want to loop through each column and print out the percentage of missing values for each column.\n"
      ],
      "id": "8b87905a"
    },
    {
      "cell_type": "code",
      "metadata": {},
      "source": [
        "print(\"Season1 Missings:\")\n",
        "for col in df1.columns:\n",
        "    total = len(df1)\n",
        "    missing = df1[col].isnull().sum()\n",
        "    percent = (missing / total) * 100\n",
        "    print(col , \":\", round(percent, 2))\n",
        "\n",
        "print(\"\\nSeason2 Missings:\")\n",
        "for col in df2.columns:\n",
        "    total = len(df2)\n",
        "    missing = df2[col].isnull().sum()\n",
        "    percent = (missing / total) * 100\n",
        "    print(col , \":\", round(percent, 2))"
      ],
      "id": "d9095bbf",
      "execution_count": null,
      "outputs": []
    },
    {
      "cell_type": "markdown",
      "metadata": {},
      "source": [
        "###### Check for Duplicates/Correct Data Types in df1:\n",
        "\n",
        "We can use the .unique() and .value_counts() functions to check for duplicates that might be caused by spaces or change in data types.\n"
      ],
      "id": "3d95b6a5"
    },
    {
      "cell_type": "code",
      "metadata": {},
      "source": [
        "# print(df1['Date'].unique() , \"\\n\", df1['Date'].dtype) # -> all objects, no duplicates\n",
        "# print(df1['About'].unique() , \"\\n\", df1['About'].dtype) # -> all objects, no duplicates\n",
        "print(df1['Position'].unique() , \"\\n\", df1['Position'].dtype) # -> all objects, no duplicates"
      ],
      "id": "41373230",
      "execution_count": null,
      "outputs": []
    },
    {
      "cell_type": "markdown",
      "metadata": {},
      "source": [
        "We only want to look at data for game-related observations, so we are only keeping rows where \"Warm Up\", \"Period 1\", \"Period 2\", and \"Movement Prep\" are the `Period` type.\n"
      ],
      "id": "6d6b601a"
    },
    {
      "cell_type": "code",
      "metadata": {},
      "source": [
        "# Warm Up, Period 1, Period 2, Mvmt Prep, Movement Prep\n",
        "krows = []\n",
        "\n",
        "for i in range(len(df1)):\n",
        "    value = str(df1.loc[i, 'Period'])\n",
        "    if 'Warm Up' in value or 'Period 1' in value or 'Period 2' in value or 'Mvmt Prep' in value or 'Movement Prep' in value:\n",
        "        krows.append(i)\n",
        "df1 = df1.loc[krows].reset_index(drop=True)\n",
        "df1['Period'] = df1['Period'].replace(\"Mvmt Prep\", \"Movement Prep\")"
      ],
      "id": "02d74515",
      "execution_count": null,
      "outputs": []
    },
    {
      "cell_type": "markdown",
      "metadata": {},
      "source": [
        "Be more specific when dropping rows now, since some of the rows kept did include \"Warm Up\" or \"Period 1\", but were actually a Scrimmage Period 1 not a game. Same thing happened with some observations that were Drills with Warm Ups, etc.\n"
      ],
      "id": "a4fe14df"
    },
    {
      "cell_type": "code",
      "metadata": {},
      "source": [
        "# delete rows with \"Scrimmage\"\n",
        "drows = []\n",
        "\n",
        "for i in range(len(df1)):\n",
        "    value = str(df1.loc[i, 'Period'])\n",
        "    if 'Scrimmage' in value:\n",
        "        drows.append(i)\n",
        "    if 'Drill' in value:\n",
        "        drows.append(i)\n",
        "\n",
        "df1.drop(index=drows, inplace=True)\n",
        "df1.reset_index(drop=True, inplace=True)\n",
        "\n",
        "df1['Period'].value_counts()"
      ],
      "id": "2fa243a4",
      "execution_count": null,
      "outputs": []
    },
    {
      "cell_type": "markdown",
      "metadata": {},
      "source": [
        "To finish cleaning the `Period` column, we are going to make sure that there are no duplicates in this column. Since some of these duplicates had different period numbers, we have to make sure we change the period numbers to match as well.\n"
      ],
      "id": "e101f19e"
    },
    {
      "cell_type": "code",
      "metadata": {},
      "source": [
        "# Warm Up = 1 , Period 1 = 2, Period 2 = 3, Movement Prep = 4\n",
        "# cleaning Warm Up\n",
        "if \"1. Warm Up\" in df1['Period'].values:\n",
        "    df1['Period'] = df1['Period'].replace(\"1. Warm Up\", \"Warm Up\")\n",
        "if \"2. Warm Up\" in df1['Period'].values:\n",
        "    df1['Period'] = df1['Period'].replace(\"2. Warm Up\", \"Warm Up\")\n",
        "    df1['Period Number'] = df1['Period Number'].replace(2, 1)\n",
        "if \"7. Warm Up\" in df1['Period'].values:\n",
        "    df1['Period'] = df1['Period'].replace(\"7. Warm Up\", \"Warm Up\")\n",
        "    df1['Period Number'] = df1['Period Number'].replace(7, 1)\n",
        "\n",
        "# cleaning Period 1\n",
        "if \"2. Period 1\" in df1['Period'].values:\n",
        "    df1['Period'] = df1['Period'].replace(\"2. Period 1\", \"Period 1\")\n",
        "if \"3. Period 1\" in df1['Period'].values:\n",
        "    df1['Period'] = df1['Period'].replace(\"3. Period 1\", \"Period 1\")\n",
        "    df1['Period Number'] =df1['Period Number'].replace(3, 2)\n",
        "\n",
        "# cleaning Period 2\n",
        "if \"2. Period 2\" in df1['Period'].values:\n",
        "    df1['Period'] = df1['Period'].replace(\"2. Period 2\", \"Period 2\")\n",
        "    df1['Period Number'] = df1['Period Number'].replace(2, 3)\n",
        "if \"4. Period 2\" in df1['Period'].values:\n",
        "    df1['Period'] = df1['Period'].replace(\"4. Period 2\", \"Period 2\")\n",
        "    df1['Period Number'] = df1['Period Number'].replace(4, 3)\n",
        "if \"3. Period 2\" in df1['Period'].values:\n",
        "    df1['Period'] = df1['Period'].replace(\"3. Period 2\", \"Period 2\")\n",
        "    \n",
        "# cleaning Movement Prep\n",
        "if \"1. Mvmt Prep\" in df1['Period'].values:\n",
        "    df1['Period'] = df1['Period'].replace(\"1. Mvmt Prep\", \"Movement Prep\")\n",
        "    df1['Period Number'] = df1['Period Number'].replace(1, 4)\n",
        "if \"2. Mvmt Prep\" in df1['Period'].values:\n",
        "    df1['Period'] = df1['Period'].replace(\"2. Mvmt Prep\", \"Movement Prep\")\n",
        "    df1['Period Number'] = df1['Period Number'].replace(2, 4)\n",
        "if \"1. Movement Prep\" in df1['Period'].values:\n",
        "    df1['Period'] = df1['Period'].replace(\"1. Movement Prep\", \"Movement Prep\")\n",
        "    df1['Period Number'] = df1['Period Number'].replace(1, 4) \n",
        "if \"2. Movement Prep\" in df1['Period'].values:\n",
        "    df1['Period'] = df1['Period'].replace(\"2. Movement Prep\", \"Movement Prep\")\n",
        "    df1['Period Number'] = df1['Period Number'].replace(2,4)\n",
        "else:\n",
        "    df1['Period'] = df1['Period']\n",
        "\n",
        "print(df1['Period'].value_counts())"
      ],
      "id": "c473b15a",
      "execution_count": null,
      "outputs": []
    },
    {
      "cell_type": "markdown",
      "metadata": {},
      "source": [
        "Continuing to check the columns:\n"
      ],
      "id": "ed052228"
    },
    {
      "cell_type": "code",
      "metadata": {},
      "source": [
        "# # print(df1['Total Player Load'].value_counts(), \"\\n\", df1['Total Player Load'].dtype) # -> all floats\n",
        "# # print(df1['Player Load Per Minute'].unique(), \"\\n\", df1['Player Load Per Minute'].dtype) # -> all floats w/ one decimal place\n",
        "# # print(df1['IMA Accel Total'].unique(), \"\\n\", df1['IMA Accel Total'].dtype) # -> all ints, no duplicates\n",
        "# # print(df1['IMA Decel Total'].unique(), \"\\n\", df1['IMA Decel Total'].dtype) # -> all ints, no duplicates \n",
        "# print(df1['IMA Jump Count Low Band'].unique(), \"\\n\", df1['IMA Jump Count Low Band'].dtype) # -> all ints, no duplicates\n",
        "# print(df1['IMA Jump Count Med Band'].unique(), \"\\n\", df1['IMA Jump Count Med Band'].dtype) # -> all ints, no duplicates\n",
        "# print(df1['IMA Jump Count High Band'].unique(), \"\\n\", df1['IMA Jump Count High Band'].dtype) # -> all ints, no duplicates\n",
        "print(df1['Explosive Efforts'].unique(), \"\\n\", df1['Explosive Efforts'].dtype) # -> all ints, no duplicates"
      ],
      "id": "b0b3f889",
      "execution_count": null,
      "outputs": []
    },
    {
      "cell_type": "markdown",
      "metadata": {},
      "source": [
        "###### Check for Duplicates/Correct Data Types in df2:\n",
        "\n",
        "Once again, we can use the .unique() and .value_counts() functions to check for duplicates that might be caused by spaces or change in data types.\n"
      ],
      "id": "cfe27cba"
    },
    {
      "cell_type": "code",
      "metadata": {},
      "source": [
        "# print(df2['Date'].unique() , \"\\n\", df2['Date'].dtype) # -> all objects, no duplicates\n",
        "# print(df2['About'].unique() , \"\\n\", df2['About'].dtype) # -> all objects, no duplicates\n",
        "print(df2['Position'].unique() , \"\\n\", df2['Position'].dtype) # -> all objects, no duplicates"
      ],
      "id": "7e4341c9",
      "execution_count": null,
      "outputs": []
    },
    {
      "cell_type": "markdown",
      "metadata": {},
      "source": [
        "We only want to look at data for game-related observations, so we are only keeping rows where \"Warm Up\", \"Period 1\", \"Period 2\", and \"Movement Prep\" are the `Period` type.\n"
      ],
      "id": "76f596e6"
    },
    {
      "cell_type": "code",
      "metadata": {},
      "source": [
        "# Warm Up, Period 1, Period 2, Mvmt Prep, Movement Prep\n",
        "krows = []\n",
        "\n",
        "for i in range(len(df2)):\n",
        "    value = str(df2.loc[i, 'Period'])\n",
        "    if 'Warm Up' in value or 'Period 1' in value or 'Period 2' in value or 'Mvmt Prep' in value or 'Movement Prep' in value:\n",
        "        krows.append(i)\n",
        "df2 = df2.loc[krows].reset_index(drop=True)\n",
        "df2['Period'] = df2['Period'].replace(\"Mvmt Prep\", \"Movement Prep\")"
      ],
      "id": "b4e86e1f",
      "execution_count": null,
      "outputs": []
    },
    {
      "cell_type": "markdown",
      "metadata": {},
      "source": [
        "Be more specific when dropping rows now, since some of the rows kept did include \"Warm Up\" or \"Period 1\", but were actually a Scrimmage Period 1 not a game. Same thing happened with some observations that were Drills with Warm Ups, etc.\n"
      ],
      "id": "c1c62037"
    },
    {
      "cell_type": "code",
      "metadata": {},
      "source": [
        "# delete rows with \"Scrimmage\"\n",
        "drows = []\n",
        "\n",
        "for i in range(len(df2)):\n",
        "    value = str(df2.loc[i, 'Period'])\n",
        "    if 'Scrimmage' in value:\n",
        "        drows.append(i)\n",
        "    if 'Drill' in value:\n",
        "        drows.append(i)\n",
        "\n",
        "df2.drop(index=drows, inplace=True)\n",
        "df2.reset_index(drop=True, inplace=True)\n",
        "\n",
        "df2['Period'].value_counts()"
      ],
      "id": "45e5d88c",
      "execution_count": null,
      "outputs": []
    },
    {
      "cell_type": "markdown",
      "metadata": {},
      "source": [
        "To finish cleaning the `Period` column, we are going to make sure that there are no duplicates in this column. Since some of these duplicates had different period numbers, we have to make sure we change the period numbers to match as well. To finish cleaning the `Period` column, we are going to make sure that there are no duplicates in this column. Since some of these duplicates had different period numbers, we have to make sure we change the period numbers to match as well.\n"
      ],
      "id": "ca3bbc25"
    },
    {
      "cell_type": "code",
      "metadata": {},
      "source": [
        "# Warm Up = 1 , Period 1 = 2, Period 2 = 3, Movement Prep = 4\n",
        "# cleaning Warm Up\n",
        "if \"1. Warm Up\" in df2['Period'].values:\n",
        "    df2['Period'] = df2['Period'].replace(\"1. Warm Up\", \"Warm Up\")\n",
        "if \"2. Warm Up\" in df2['Period'].values:\n",
        "    df2['Period'] = df2['Period'].replace(\"2. Warm Up\", \"Warm Up\")\n",
        "    df2['Period Number'] = df2['Period Number'].replace(2, 1)\n",
        "if \"4. Warm Up\" in df2['Period'].values:\n",
        "    df2['Period'] = df2['Period'].replace(\"4. Warm Up\", \"Warm Up\")\n",
        "    df2['Period Number'] = df2['Period Number'].replace(4, 1)\n",
        "if \"3. Warm Up\" in df2['Period'].values:\n",
        "    df2['Period'] = df2['Period'].replace(\"3. Warm Up\", \"Warm Up\")\n",
        "    df2['Period Number'] = df2['Period Number'].replace(3, 1)\n",
        "\n",
        "# cleaning Period 1\n",
        "if \"2. Period 1\" in df2['Period'].values:\n",
        "    df2['Period'] = df2['Period'].replace(\"2. Period 1\", \"Period 1\")\n",
        "if \"3. Period 1\" in df2['Period'].values:\n",
        "    df2['Period'] = df2['Period'].replace(\"3. Period 1\", \"Period 1\")\n",
        "    df2['Period Number'] =df2['Period Number'].replace(3, 2)\n",
        "if \"1. Period 1\" in df2['Period'].values:\n",
        "    df2['Period'] = df2['Period'].replace(\"1. Period 1\", \"Period 1\")\n",
        "    df2['Period Number'] =df2['Period Number'].replace(1, 2)\n",
        "if \"8. Period 1\" in df2['Period'].values:\n",
        "    df2['Period'] = df2['Period'].replace(\"8. Period 1\", \"Period 1\")\n",
        "    df2['Period Number'] =df2['Period Number'].replace(8, 2)\n",
        "\n",
        "# cleaning Period 2\n",
        "if \"2. Period 2\" in df2['Period'].values:\n",
        "    df2['Period'] = df2['Period'].replace(\"2. Period 2\", \"Period 2\")\n",
        "    df2['Period Number'] = df2['Period Number'].replace(2, 3)\n",
        "if \"4. Period 2\" in df2['Period'].values:\n",
        "    df2['Period'] = df2['Period'].replace(\"4. Period 2\", \"Period 2\")\n",
        "    df2['Period Number'] = df2['Period Number'].replace(4, 3)\n",
        "if \"3. Period 2\" in df2['Period'].values:\n",
        "    df2['Period'] = df2['Period'].replace(\"3. Period 2\", \"Period 2\")\n",
        "if \"5. Period 2\" in df2['Period'].values:\n",
        "    df2['Period'] = df2['Period'].replace(\"5. Period 2\", \"Period 2\")\n",
        "    df2['Period Number'] = df2['Period Number'].replace(5, 3)\n",
        "if \"9. Period 2\" in df2['Period'].values:\n",
        "    df2['Period'] = df2['Period'].replace(\"9. Period 2\", \"Period 2\")\n",
        "    df2['Period Number'] = df2['Period Number'].replace(9, 3)\n",
        "    \n",
        "# cleaning Movement Prep\n",
        "if \"1. Movement Prep\" in df2['Period'].values:\n",
        "    df2['Period'] = df2['Period'].replace(\"1. Movement Prep\", \"Movement Prep\")\n",
        "    df2['Period Number'] = df2['Period Number'].replace(1, 4)\n",
        "\n",
        "else:\n",
        "    df2['Period'] = df2['Period']\n",
        "\n",
        "print(df2['Period'].value_counts())"
      ],
      "id": "4ecf2480",
      "execution_count": null,
      "outputs": []
    },
    {
      "cell_type": "markdown",
      "metadata": {},
      "source": [
        "Continuing to check the columns:\n"
      ],
      "id": "c8109a7f"
    },
    {
      "cell_type": "code",
      "metadata": {},
      "source": [
        "# print(df2['Total Player Load'].value_counts(), \"\\n\", df2['Total Player Load'].dtype) # -> all floats\n",
        "# print(df2['Player Load Per Minute'].unique(), \"\\n\", df2['Player Load Per Minute'].dtype) # -> all floats w/ one decimal place\n",
        "# print(df2['IMA Accel Total'].unique(), \"\\n\", df2['IMA Accel Total'].dtype) # -> all ints, no duplicates\n",
        "# print(df2['IMA Decel Total'].unique(), \"\\n\", df2['IMA Decel Total'].dtype) # -> all ints, no duplicates \n",
        "# print(df2['IMA Jump Count Low Band'].unique(), \"\\n\", df2['IMA Jump Count Low Band'].dtype) # -> all ints, no duplicates\n",
        "# print(df2['IMA Jump Count Med Band'].unique(), \"\\n\", df2['IMA Jump Count Med Band'].dtype) # -> all ints, no duplicates\n",
        "# print(df2['IMA Jump Count High Band'].unique(), \"\\n\", df2['IMA Jump Count High Band'].dtype) # -> all ints, no duplicates\n",
        "print(df2['Explosive Efforts'].unique(), \"\\n\", df2['Explosive Efforts'].dtype) # -> all ints, no duplicates"
      ],
      "id": "bfbab9ae",
      "execution_count": null,
      "outputs": []
    },
    {
      "cell_type": "markdown",
      "metadata": {},
      "source": [
        "##### Question Five - Descriptive Statistics & Distributions\n"
      ],
      "id": "7489214a"
    },
    {
      "cell_type": "code",
      "metadata": {},
      "source": [
        "def hist_stat(col, seasondf):\n",
        "    # season/column specific:\n",
        "    color = ''\n",
        "    season = ''\n",
        "    if seasondf.equals(df1):\n",
        "        season = 'Season 1'\n",
        "        color = 'purple'\n",
        "    elif seasondf.equals(df2):\n",
        "        season = 'Season 2'\n",
        "        color = 'green'\n",
        "    else:\n",
        "        season = 'Unknown Season'\n",
        "        color = 'blue'\n",
        "\n",
        "    # plot variable statistics\n",
        "    plt.hist(col, bins=30, color=color, alpha=0.5, edgecolor='black')\n",
        "    plt.gca().spines['top'].set_visible(False)\n",
        "    plt.gca().spines['right'].set_visible(False)\n",
        "    title = season + \" \" + col.name + \" \" + 'Distribution'\n",
        "    plt.title(title)\n",
        "    plt.xlabel(col.name)\n",
        "    plt.show()\n",
        "\n",
        "    # print numerical statistics\n",
        "    mean = np.mean(col)\n",
        "    std = np.std(col)\n",
        "    min = np.min(col)\n",
        "    max = np.max(col)\n",
        "    percentiles = np.percentile(col, [25, 50, 75])\n",
        "    print(\"mean:\", mean, \"\\nstd:\", std, \"\\nmin:\", min, \"\\nmax:\", max, \"\\nPercentiles:\", percentiles)\n",
        "\n",
        "def categorical_stats(col, dataframe):\n",
        "    color = ''\n",
        "    season = ''\n",
        "    if dataframe.equals(df1):\n",
        "        season = 'Season 1'\n",
        "        color = 'purple'\n",
        "    elif dataframe.equals(df2):\n",
        "        season = 'Season 2'\n",
        "        color = 'green'\n",
        "    else:\n",
        "        season = 'Unknown Season'\n",
        "        color = 'blue'\n",
        "\n",
        "    plt.hist(col, color=color, edgecolor='black')\n",
        "    plt.gca().spines['top'].set_visible(False)\n",
        "    plt.gca().spines['right'].set_visible(False)\n",
        "    title = season + \" \" + col.name\n",
        "    plt.title(title)\n",
        "    plt.show()"
      ],
      "id": "00f1110a",
      "execution_count": null,
      "outputs": []
    },
    {
      "cell_type": "markdown",
      "metadata": {},
      "source": [
        "###### Total Player Load:"
      ],
      "id": "82d5e0a6"
    },
    {
      "cell_type": "code",
      "metadata": {},
      "source": [
        "hist_stat(df1['Total Player Load'], df1)\n",
        "hist_stat(df2['Total Player Load'], df2)"
      ],
      "id": "a9385853",
      "execution_count": null,
      "outputs": []
    },
    {
      "cell_type": "markdown",
      "metadata": {},
      "source": [
        "From the 2 seasons worth of Total Player Load distributions and statistics, it appears:\n",
        "1. There's a slight positive skew (right skewed) with a high peak towards lower values (less than 50)\n",
        "2. A smaller peak towards 150 to 175\n",
        "3. A gradual decline after 200 all the way to 400+ in Total Player Load\n",
        "4. Percentiles also display this with the 25, 50, 75 percentiles for both seasons\n",
        "5. season 1 saw a higher initial peak at near 200 for a low point whereas season 2 saw the highest frequency around 175 for the initial peak.\n",
        "\n",
        "Since distribution was similar, but the initial peaks were different, we might want to look more into why total player loads see this unusual distribution.\n",
        "\n",
        "###### Player Load Per Minute:"
      ],
      "id": "a3a6bd5a"
    },
    {
      "cell_type": "code",
      "metadata": {},
      "source": [
        "hist_stat(df1['Player Load Per Minute'], df1)\n",
        "hist_stat(df2['Player Load Per Minute'], df2)"
      ],
      "id": "4be70d55",
      "execution_count": null,
      "outputs": []
    },
    {
      "cell_type": "markdown",
      "metadata": {},
      "source": [
        "Compared to Total Player Load, the Player Load Per Minute attains a relatively normal and symmetrical distribution. This indicates that players more see an \"average\" Player load every minute between 5 to around 12.5 player load / minute whereas total player load varies greatly between players in certain warmup/game groups.\n",
        "\n",
        "###### IMA Accel Total:"
      ],
      "id": "6ecb2fdc"
    },
    {
      "cell_type": "code",
      "metadata": {},
      "source": [
        "hist_stat(df1['IMA Accel Total'], df1)\n",
        "hist_stat(df2['IMA Accel Total'], df2)"
      ],
      "id": "74a9bd4c",
      "execution_count": null,
      "outputs": []
    },
    {
      "cell_type": "markdown",
      "metadata": {},
      "source": [
        "###### IMA Decel Total:"
      ],
      "id": "324c7d8c"
    },
    {
      "cell_type": "code",
      "metadata": {},
      "source": [
        "hist_stat(df1['IMA Decel Total'], df1)\n",
        "hist_stat(df2['IMA Decel Total'], df2)"
      ],
      "id": "4f4d97a9",
      "execution_count": null,
      "outputs": []
    },
    {
      "cell_type": "markdown",
      "metadata": {},
      "source": [
        "The IMA Accel Total Distribution is more positively/right skewed compared to that of the IMA Decel Total when we compare the respective season graphs along with the percentile breakdowns. The reason this is might not be because most players don't accelerate or decelerate that often, but more so because there are minor movements contributing to minor slowing down or minor speeding up. For example, a player could walk forward one step, and this would be seen as an acceleration.\n",
        "\n",
        "Another thing to point out in IMA Decel Total is that basketball players also back pedal during games/warm-ups, and Catapult sensors might have a hard time understanding that facing one direction while accelerating in the opposite is possible. So in IMA Decel Total, we might see a second small peak around 30 for both because the sensors think the person is deccelerating when they're accelerating in a back pedal.\n",
        "\n",
        "###### IMA Jump Count Low Band:"
      ],
      "id": "ffd79b02"
    },
    {
      "cell_type": "code",
      "metadata": {},
      "source": [
        "hist_stat(df1['IMA Jump Count Low Band'], df1)\n",
        "hist_stat(df2['IMA Jump Count Low Band'], df2)"
      ],
      "id": "97a0b373",
      "execution_count": null,
      "outputs": []
    },
    {
      "cell_type": "markdown",
      "metadata": {},
      "source": [
        "###### IMA Jump Count Med Band:"
      ],
      "id": "4eae3c2a"
    },
    {
      "cell_type": "code",
      "metadata": {},
      "source": [
        "hist_stat(df1['IMA Jump Count Med Band'], df1)\n",
        "hist_stat(df2['IMA Jump Count Med Band'], df2)"
      ],
      "id": "dc69c19e",
      "execution_count": null,
      "outputs": []
    },
    {
      "cell_type": "markdown",
      "metadata": {},
      "source": [
        "###### IMA Jump Count High Band:"
      ],
      "id": "70bef730"
    },
    {
      "cell_type": "code",
      "metadata": {},
      "source": [
        "hist_stat(df1['IMA Jump Count High Band'], df1)\n",
        "hist_stat(df2['IMA Jump Count High Band'], df2)"
      ],
      "id": "dee027b8",
      "execution_count": null,
      "outputs": []
    },
    {
      "cell_type": "markdown",
      "metadata": {},
      "source": [
        "Overall, all of the IMA Jump Counts (low/med/high), experienced a right skew. It appears we have a higher amount of lower bands as the maximums were much higher (67 and 70 for season 1 and 2 respectively) compared to that of low and high bands. \n",
        "\n",
        "This means there are some extreme outliers/observations that can contribute to analysis. For example, we might be able to look into which players induced these extreme outlier observations and then examine if there's something different in their training regime that we can add to other player regimes.\n",
        "\n",
        "Another reasoning for this positive skew is that players often observe a lack of low/med/high counts in terms of bands compared to experiencing these bands. We might need to take a look at the higher counts for each band to take a look at what's different about these types of events (warm-up/game) compared to that of the lower counted bands.\n",
        "\n",
        "###### Explosive Efforts:"
      ],
      "id": "420faa95"
    },
    {
      "cell_type": "code",
      "metadata": {},
      "source": [
        "hist_stat(df1['Explosive Efforts'], df1)\n",
        "hist_stat(df2['Explosive Efforts'], df2)"
      ],
      "id": "d9c18374",
      "execution_count": null,
      "outputs": []
    },
    {
      "cell_type": "markdown",
      "metadata": {},
      "source": [
        "In Explosive efforts, it appears we have yet another positively skewed distribution. In Season 1, we see a lower frequency for the minimum (0) compared to that of Season 2. Otherwise, the shape of the rest of the distribution remains relatively similar.\n",
        "\n",
        "Why this is might be because there were more times players didn't experience any explosive efforts compared to experiencing them. We might want to take a look at the wins/losses of games in both seasons to see if there was more success in one of the season, and see if this correlates with how many non-explosive efforts both seasons observed. There might be a correlation, but as of now we're not sure what the correlation might be.\n",
        "\n",
        "###### Categorical Statistics:\n",
        "\n",
        "Position:"
      ],
      "id": "18c8df9b"
    },
    {
      "cell_type": "code",
      "metadata": {},
      "source": [
        "categorical_stats(df1['Position'], df1)\n",
        "categorical_stats(df2['Position'], df2)\n",
        "\n",
        "print(df1['Position'].unique())"
      ],
      "id": "d84c2a5d",
      "execution_count": null,
      "outputs": []
    },
    {
      "cell_type": "markdown",
      "metadata": {},
      "source": [
        "Consistently, we see more observations under Guard than in Forward and in Center (ordered in descending order). This might indicate that warmups/movement prep/game periods witnessed more guards activity than that of the other positions. We might be able to explore how this impacts the guards during gamedays/warmups, and if we should be focusing attentions on the other positions in this manner.\n",
        "\n",
        "Period:"
      ],
      "id": "30b7e3e9"
    },
    {
      "cell_type": "code",
      "metadata": {},
      "source": [
        "categorical_stats(df1['Period'], df1)\n",
        "categorical_stats(df2['Period'], df2)\n",
        "\n",
        "print(df1['Period'].unique())"
      ],
      "id": "26072acd",
      "execution_count": null,
      "outputs": []
    },
    {
      "cell_type": "markdown",
      "metadata": {},
      "source": [
        "A couple things to note is that Warm Up experienced higher observations. Movement prep, while even with number of observations in Season 1, experienced significantly lower observations compared to Period 1 and Period 2 in Season 2. \n",
        "\n",
        "- side note: remember that warm up is first and movement prep is last in Season 1, but this is the opposite in Season 2.\n",
        "\n",
        "##### Question Six - Examine Correlations (if relevant)"
      ],
      "id": "18014a97"
    },
    {
      "cell_type": "code",
      "metadata": {},
      "source": [
        "sns.pairplot(df1[['Total Player Load', 'Player Load Per Minute', 'IMA Accel Total',\n",
        "       'IMA Decel Total', 'IMA Jump Count Low Band', 'IMA Jump Count Med Band',\n",
        "       'IMA Jump Count High Band', 'Explosive Efforts']], plot_kws={'alpha': 0.5})\n",
        "plt.show()\n",
        "correlation = df1[['Total Player Load', 'Player Load Per Minute', 'IMA Accel Total',\n",
        "        'IMA Decel Total', 'IMA Jump Count Low Band', 'IMA Jump Count Med Band',\n",
        "        'IMA Jump Count High Band', 'Explosive Efforts']].corr()\n",
        "plt.figure(figsize=(10, 8))\n",
        "sns.heatmap(correlation, annot=True, cmap='coolwarm', center=0)\n",
        "plt.title('Correlation between 3 continuous chosen variables')\n",
        "plt.show()"
      ],
      "id": "7965b80f",
      "execution_count": null,
      "outputs": []
    },
    {
      "cell_type": "markdown",
      "metadata": {},
      "source": [
        "Correlations above 0.75:\n",
        "- IMA Accel Total and Total Player Load(0.86)\n",
        "- IMA Decel Total and Total Player Load(0.84)\n",
        "- Explosive Efforts and Total Player Load(0.77)\n",
        "- IMA Accel Total and IMA Decel Total(0.75)\n",
        "- Explosive Effots and IMA Accel Total(0.84)\n",
        "- Explosive Efforts and IMA Decel Total(0.76)\n"
      ],
      "id": "fc0d3cee"
    },
    {
      "cell_type": "code",
      "metadata": {},
      "source": [
        "sns.pairplot(df2[['Total Player Load', 'Player Load Per Minute', 'IMA Accel Total',\n",
        "       'IMA Decel Total', 'IMA Jump Count Low Band', 'IMA Jump Count Med Band',\n",
        "       'IMA Jump Count High Band', 'Explosive Efforts']], plot_kws={'alpha': 0.5})\n",
        "plt.show()\n",
        "correlation = df2[['Total Player Load', 'Player Load Per Minute', 'IMA Accel Total',\n",
        "        'IMA Decel Total', 'IMA Jump Count Low Band', 'IMA Jump Count Med Band',\n",
        "        'IMA Jump Count High Band', 'Explosive Efforts']].corr()\n",
        "plt.figure(figsize=(10, 8))\n",
        "sns.heatmap(correlation, annot=True, cmap='coolwarm', center=0)\n",
        "plt.title('Correlation between 3 continuous chosen variables')\n",
        "plt.show()"
      ],
      "id": "f1ce3645",
      "execution_count": null,
      "outputs": []
    },
    {
      "cell_type": "markdown",
      "metadata": {},
      "source": [
        " Correlations above 0.75:\n",
        " - IMA Accel Total and Total Player Load(0.82)\n",
        " - IMA Decel Total and Total Player Load(0.9)\n",
        " - Explosive Efforts and Total Player Load(0.79)\n",
        " - IMA Decel Total and IMA Accel Total(0.75)\n",
        " - Explosive Efforts and IMA Accel Total(0.84)\n",
        " - Explosive Efforts and IMA Decel Total(0.84)\n",
        "\n",
        " Negative Correlations:\n",
        " - IMA Jump Count Med Band and Player Load per Minute(-0.41)\n",
        " - IMA Jump Count High Band and Player Load per Minute(-0.064)\n",
        " - IMA Accel Total and IMA Jump Count Med Band(-0.014)\n",
        " - IMA Jump Count Low Band and IMA Jump Count Med Band(-0.054)\n",
        " - Explosive Efforts and IMA Jump Count Med Band(-0.19)\n",
        "\n",
        " I thought these negative correlations were an interesting factor because they were not seen in the first seasons data set.\n",
        "\n",
        "##### Question Seven - Explore Relationships (if relevant)\n",
        "\n",
        "Looking at Correlations above 0.75\n",
        "\n",
        "Relationship between IMA Accel Total and Total Player Load\n"
      ],
      "id": "4f5a9789"
    },
    {
      "cell_type": "code",
      "metadata": {},
      "source": [
        "fig, axes = plt.subplots(1, 2, figsize=(12, 5))\n",
        "\n",
        "sns.scatterplot(data=df1, x='IMA Accel Total', y='Total Player Load', ax=axes[0], color='blue')\n",
        "axes[0].set_title('Season 1 IMA Accel Total vs Total Player Load')\n",
        "axes[0].set_xlabel('IMA Accel Total')\n",
        "axes[0].set_ylabel('Total Player Load')\n",
        "\n",
        "sns.scatterplot(data=df2, x='IMA Accel Total', y='Total Player Load', ax=axes[1], color='green')\n",
        "axes[1].set_title('Season 2 IMA Accel Total vs Total Player Load')\n",
        "axes[1].set_xlabel('IMA Accel Total')\n",
        "axes[1].set_ylabel('Total Player Load')\n",
        "\n",
        "plt.tight_layout()\n",
        "plt.show()"
      ],
      "id": "c6a264d1",
      "execution_count": null,
      "outputs": []
    },
    {
      "cell_type": "markdown",
      "metadata": {},
      "source": [
        "Both relationships seem to be positive and strongly correlated.\n",
        "\n",
        "Relationship between IMA Decel Total and Total Player Load\n"
      ],
      "id": "a17ca5cd"
    },
    {
      "cell_type": "code",
      "metadata": {},
      "source": [
        "fig, axes = plt.subplots(1, 2, figsize=(12, 5))\n",
        "\n",
        "sns.scatterplot(data=df1, x='IMA Decel Total', y='Total Player Load', ax=axes[0], color='blue')\n",
        "axes[0].set_title('Season 1 IMA Decel Total vs Total Player Load')\n",
        "axes[0].set_xlabel('IMA Decel Total')\n",
        "axes[0].set_ylabel('Total Player Load')\n",
        "\n",
        "sns.scatterplot(data=df2, x='IMA Decel Total', y='Total Player Load', ax=axes[1], color='green')\n",
        "axes[1].set_title('Season 2 IMA Decel Total vs Total Player Load')\n",
        "axes[1].set_xlabel('IMA Decel Total')\n",
        "axes[1].set_ylabel('Total Player Load')\n",
        "\n",
        "plt.tight_layout()\n",
        "plt.show()"
      ],
      "id": "4a06e93a",
      "execution_count": null,
      "outputs": []
    },
    {
      "cell_type": "markdown",
      "metadata": {},
      "source": [
        "Both relationships are highly correlated and seem to have small differences in their trends.\n",
        "\n",
        "Relationship between Explosive Efforts and Total Player Load"
      ],
      "id": "067ec910"
    },
    {
      "cell_type": "code",
      "metadata": {},
      "source": [
        "fig, axes = plt.subplots(1, 2, figsize=(12, 5))\n",
        "\n",
        "sns.scatterplot(data=df1, x='Explosive Efforts', y='Total Player Load', ax=axes[0], color='blue')\n",
        "axes[0].set_title('Season 1 Explosive Efforts v. Total Player Load')\n",
        "axes[0].set_xlabel('Explosive Efforts')\n",
        "axes[0].set_ylabel('Total Player Load')\n",
        "\n",
        "sns.scatterplot(data=df2, x='Explosive Efforts', y='Total Player Load', ax=axes[1], color='green')\n",
        "axes[1].set_title('Season 2 Explosive Efforts v. Total Player Load')\n",
        "axes[1].set_xlabel('Explosive Efforts')\n",
        "axes[1].set_ylabel('Total Player Load')\n",
        "\n",
        "plt.tight_layout()\n",
        "plt.show()"
      ],
      "id": "abb56fdc",
      "execution_count": null,
      "outputs": []
    },
    {
      "cell_type": "markdown",
      "metadata": {},
      "source": [
        "Both relationships are highly correlated and seem to have small differences in their trends.\n",
        "\n",
        "Relationship between IMA Decel Total and IMA Accel Total"
      ],
      "id": "f0e9ee58"
    },
    {
      "cell_type": "code",
      "metadata": {},
      "source": [
        "fig, axes = plt.subplots(1, 2, figsize=(12, 5))\n",
        "\n",
        "sns.scatterplot(data=df1, x='IMA Decel Total', y='IMA Accel Total', ax=axes[0], color='blue')\n",
        "axes[0].set_title('Season 1 IMA Decel Total v. IMA Accel Total')\n",
        "axes[0].set_xlabel('IMA Decel Total')\n",
        "axes[0].set_ylabel('IMA Accel Total')\n",
        "\n",
        "sns.scatterplot(data=df2, x='IMA Decel Total', y='IMA Accel Total', ax=axes[1], color='green')\n",
        "axes[1].set_title('Season 1 IMA Decel Total v. IMA Accel Total')\n",
        "axes[1].set_xlabel('IMA Decel Total')\n",
        "axes[1].set_ylabel('IMA Accel Total')\n",
        "plt.tight_layout()\n",
        "plt.show()"
      ],
      "id": "f5eebcb6",
      "execution_count": null,
      "outputs": []
    },
    {
      "cell_type": "markdown",
      "metadata": {},
      "source": [
        "Both relationships are moderate to strongly correlated and seem to have few differences in their trends.\n",
        "\n",
        "Relationship between IMA Accel Total and Explosive Efforts"
      ],
      "id": "e20fb8ef"
    },
    {
      "cell_type": "code",
      "metadata": {},
      "source": [
        "fig, axes = plt.subplots(1, 2, figsize=(12, 5))\n",
        "\n",
        "sns.scatterplot(data=df1, x='IMA Accel Total', y='Explosive Efforts', ax=axes[0], color='blue')\n",
        "axes[0].set_title('Season 1 IMA Accel Total vs Explosive Efforts')\n",
        "axes[0].set_xlabel('IMA Accel Total')\n",
        "axes[0].set_ylabel('Explosive Efforts')\n",
        "\n",
        "sns.scatterplot(data=df2, x='IMA Accel Total', y='Explosive Efforts', ax=axes[1], color='green')\n",
        "axes[1].set_title('Season 2 IMA Accel Total vs Explosive Efforts')\n",
        "axes[1].set_xlabel('IMA Accel Total')\n",
        "axes[1].set_ylabel('Explosive Efforts')\n",
        "\n",
        "plt.tight_layout()\n",
        "plt.show()"
      ],
      "id": "29abe525",
      "execution_count": null,
      "outputs": []
    },
    {
      "cell_type": "markdown",
      "metadata": {},
      "source": [
        "These correlations are both positive and moderate-highly correlated. Their trends occur to be different with the season 2 data to have a higher trend line.\n",
        "\n",
        "Relationship between IMA Decel Total and Explosive Efforts"
      ],
      "id": "482ee84d"
    },
    {
      "cell_type": "code",
      "metadata": {},
      "source": [
        "fig, axes = plt.subplots(1, 2, figsize=(12, 5))\n",
        "\n",
        "sns.scatterplot(data=df1, x='IMA Decel Total', y='Explosive Efforts', ax=axes[0], color='blue')\n",
        "axes[0].set_title('Season 1 IMA Decel Total vs Explosive Efforts')\n",
        "axes[0].set_xlabel('IMA Decel Total')\n",
        "axes[0].set_ylabel('Explosive Efforts')\n",
        "\n",
        "sns.scatterplot(data=df2, x='IMA Decel Total', y='Explosive Efforts', ax=axes[1], color='green')\n",
        "axes[1].set_title('Season 2 IMA Decel Total vs Explosive Efforts')\n",
        "axes[1].set_xlabel('IMA Decel Total')\n",
        "axes[1].set_ylabel('Explosive Efforts')\n",
        "\n",
        "plt.tight_layout()\n",
        "plt.show()"
      ],
      "id": "48cba845",
      "execution_count": null,
      "outputs": []
    },
    {
      "cell_type": "markdown",
      "metadata": {},
      "source": [
        "Both the comparisons of IMA Decel and IMA Accel Totals compared to Explosive Efforts are very similar. The trends both show the same shape and correlations.\n",
        "\n",
        "Looking at negative correlations:\n",
        " - IMA Jump Count Med Band and Player Load per Minute(-0.41)\n",
        " - IMA Jump Count High Band and Player Load per Minute(-0.064)\n",
        " - IMA Accel Total and IMA Jump Count Med Band(-0.014)\n",
        " - IMA Jump Count Low Band and IMA Jump Count Med Band(-0.054)\n",
        " - Explosive Efforts and IMA Jump Count Med Band(-0.19)\n"
      ],
      "id": "ed1cd4a5"
    },
    {
      "cell_type": "code",
      "metadata": {
        "md-indent": " "
      },
      "source": [
        "fig,axes = plt.subplots(1, 2, figsize=(12, 5))\n",
        "\n",
        "sns.scatterplot(data=df1,x='IMA Jump Count Med Band', y='Player Load Per Minute', ax=axes[0], color='blue')\n",
        "axes[0].set_title('Season2 Jump Count Med Band vs Player Load per Minute')\n",
        "axes[0].set_xlabel('IMAJump Count Med Band')\n",
        "axes[0].set_ylabel('PlayerLoad per Minute')\n",
        "\n",
        "sns.scatterplot(data=df2,x= 'IMA Jump Count Med Band', y='Player Load Per Minute', ax=axes[1], color='green')\n",
        "axes[1].set_title('Season2 Jump Count Med Band vs Player Load per Minute')\n",
        "axes[1].set_xlabel('IMAJump Count Med Band')\n",
        "axes[1].set_ylabel('PlayerLoad Per Minute')\n",
        "\n",
        "plt.tight_layout()\n",
        "plt.show()\n",
        "```\n",
        "\n",
        "\n",
        "Thesecorrelations appear to not be overwhelmingly negative but rather just scattered in similar ways with a slight negative skew for the season 2 data. We will not be exploring the lower correlated sets its clear that the negative value is not fully important for the relationships with such small correlations.\n",
        "\n",
        "Exploringthe Negative Correlation(0.19) between IMA Jump Count Med Band and Explosive Efforts\n",
        "\n",
        "\n",
        "```{python}\n",
        "fig,axes = plt.subplots(1, 2, figsize=(12, 5))\n",
        "\n",
        "sns.scatterplot(data=df1,x='IMA Jump Count Med Band', y='Explosive Efforts', ax=axes[0], color='blue')\n",
        "axes[0].set_title('Season1 Jump Count High Band vs Player Load')\n",
        "axes[0].set_xlabel('IMAJump Count Med Band')\n",
        "axes[0].set_ylabel('ExplosiveEfforts')\n",
        "\n",
        "sns.scatterplot(data=df2,x= 'IMA Jump Count Med Band', y='Explosive Efforts', ax=axes[1], color='green')\n",
        "axes[1].set_title('Season2 Jump Count High Band vs Player Load')\n",
        "axes[1].set_xlabel('IMAJump Count Med Band')\n",
        "axes[1].set_ylabel('ExplosiveEfforts')\n",
        "\n",
        "plt.tight_layout()\n",
        "plt.show()\n",
        "```\n",
        "\n",
        "\n",
        "Thecorrelation between IMA Jump Count Med Band and Explosive Efforts is different for both the season 1 data(0.076) and the season 2 data(-0.19). This raises the question of a potential different play style, or energy exertion during the games. \n",
        "\n",
        "StatisticalAnalyses of IMA Jump Count Med Band and Explosive Efforts\n",
        "\n",
        "```{python}\n",
        "df3=pd.DataFrame({\n",
        "   'IMA Jump Count Med Band': pd.concat([df1['IMA Jump Count Med Band'], df2['IMA Jump Count Med Band']], ignore_index=True),\n",
        "   'Season': ['Season 1'] * len(df1) + ['Season 2'] * len(df2)\n",
        "})\n",
        "\n",
        "plt.figure(figsize=(8,6))\n",
        "sns.boxplot(data=df3,x='Season', y='IMA Jump Count Med Band', palette='spring')\n",
        "\n",
        "plt.ylabel('IMAJump Count Med Band')\n",
        "plt.title('IMAJump Count Med Band: Season 1 vs Season 2')\n",
        "plt.grid(axis='y')\n",
        "plt.show()"
      ],
      "id": "ea64fdb0",
      "execution_count": null,
      "outputs": []
    },
    {
      "cell_type": "markdown",
      "metadata": {},
      "source": [
        "It appears that the season 1 data has a larger spread then compared to season 2. Though, the IQR is larger in the season 2 data, meaning the values have more variability in this middle range. The mean of the seasn 2 data is also slightly larger then the season 1 data.\n"
      ],
      "id": "ab799136"
    },
    {
      "cell_type": "code",
      "metadata": {
        "md-indent": " "
      },
      "source": [
        "df3=pd.DataFrame({\n",
        "   'Explosive Efforts': pd.concat([df1['Explosive Efforts'], df2['Explosive Efforts']], ignore_index=True),\n",
        "   'Season': ['Season 1'] * len(df1) + ['Season 2'] * len(df2)\n",
        "})\n",
        "\n",
        "plt.figure(figsize=(8,6))\n",
        "sns.boxplot(data=df3,x='Season', y='Explosive Efforts', palette='spring')\n",
        "\n",
        "plt.ylabel('ExplosiveEfforts')\n",
        "plt.title('ExplosiveEfforts: Season 1 vs Season 2')\n",
        "plt.grid(axis='y')\n",
        "plt.show()"
      ],
      "id": "6fa716ec",
      "execution_count": null,
      "outputs": []
    },
    {
      "cell_type": "markdown",
      "metadata": {},
      "source": [
        " The spread of explosive efforts is larger in the season 1 data, but the IQR is significantly larger in the season 2 data. This means that the data has more variability in the mid range of explosive efforts. The mean is also larger in the season 2 data, meaning players in season 1 had fewer explosive efforts."
      ],
      "id": "533f790e"
    }
  ],
  "metadata": {
    "kernelspec": {
      "name": "python3",
      "language": "python",
      "display_name": "Python 3 (ipykernel)",
      "path": "/Users/clairebassett/Library/Python/3.9/share/jupyter/kernels/python3"
    }
  },
  "nbformat": 4,
  "nbformat_minor": 5
}